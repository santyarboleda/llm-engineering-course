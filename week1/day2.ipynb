{
 "cells": [
  {
   "cell_type": "markdown",
   "id": "d15d8294-3328-4e07-ad16-8a03e9bbfdb9",
   "metadata": {},
   "source": [
    "# Welcome to your first assignment!\n",
    "\n",
    "Instructions are below. Please give this a try, and look in the solutions folder if you get stuck (or feel free to ask me!)"
   ]
  },
  {
   "cell_type": "markdown",
   "id": "ada885d9-4d42-4d9b-97f0-74fbbbfe93a9",
   "metadata": {},
   "source": [
    "<table style=\"margin: 0; text-align: left;\">\n",
    "    <tr>\n",
    "        <td style=\"width: 150px; height: 150px; vertical-align: middle;\">\n",
    "            <img src=\"../resources.jpg\" width=\"150\" height=\"150\" style=\"display: block;\" />\n",
    "        </td>\n",
    "        <td>\n",
    "            <h2 style=\"color:#f71;\">Just before we get to the assignment --</h2>\n",
    "            <span style=\"color:#f71;\">I thought I'd take a second to point you at this page of useful resources for the course. This includes links to all the slides.<br/>\n",
    "            <a href=\"https://edwarddonner.com/2024/11/13/llm-engineering-resources/\">https://edwarddonner.com/2024/11/13/llm-engineering-resources/</a><br/>\n",
    "            Please keep this bookmarked, and I'll continue to add more useful links there over time.\n",
    "            </span>\n",
    "        </td>\n",
    "    </tr>\n",
    "</table>"
   ]
  },
  {
   "cell_type": "markdown",
   "id": "6e9fa1fc-eac5-4d1d-9be4-541b3f2b3458",
   "metadata": {},
   "source": [
    "# HOMEWORK EXERCISE ASSIGNMENT\n",
    "\n",
    "Upgrade the day 1 project to summarize a webpage to use an Open Source model running locally via Ollama rather than OpenAI\n",
    "\n",
    "You'll be able to use this technique for all subsequent projects if you'd prefer not to use paid APIs.\n",
    "\n",
    "**Benefits:**\n",
    "1. No API charges - open-source\n",
    "2. Data doesn't leave your box\n",
    "\n",
    "**Disadvantages:**\n",
    "1. Significantly less power than Frontier Model\n",
    "\n",
    "## Recap on installation of Ollama\n",
    "\n",
    "Simply visit [ollama.com](https://ollama.com) and install!\n",
    "\n",
    "Once complete, the ollama server should already be running locally.  \n",
    "If you visit:  \n",
    "[http://localhost:11434/](http://localhost:11434/)\n",
    "\n",
    "You should see the message `Ollama is running`.  \n",
    "\n",
    "If not, bring up a new Terminal (Mac) or Powershell (Windows) and enter `ollama serve`  \n",
    "And in another Terminal (Mac) or Powershell (Windows), enter `ollama pull llama3.2`  \n",
    "Then try [http://localhost:11434/](http://localhost:11434/) again.\n",
    "\n",
    "If Ollama is slow on your machine, try using `llama3.2:1b` as an alternative. Run `ollama pull llama3.2:1b` from a Terminal or Powershell, and change the code below from `MODEL = \"llama3.2\"` to `MODEL = \"llama3.2:1b\"`\n",
    "\n",
    "You can use Open WebUI to interact with models: https://github.com/open-webui/open-webui"
   ]
  },
  {
   "cell_type": "code",
   "execution_count": 2,
   "id": "4e2a9393-7767-488e-a8bf-27c12dca35bd",
   "metadata": {},
   "outputs": [],
   "source": [
    "# imports\n",
    "\n",
    "import requests\n",
    "from bs4 import BeautifulSoup\n",
    "from IPython.display import Markdown, display"
   ]
  },
  {
   "cell_type": "code",
   "execution_count": 3,
   "id": "29ddd15d-a3c5-4f4e-a678-873f56162724",
   "metadata": {},
   "outputs": [],
   "source": [
    "# Constants\n",
    "\n",
    "OLLAMA_API = \"http://localhost:11434/api/chat\"\n",
    "HEADERS = {\"Content-Type\": \"application/json\"}\n",
    "MODEL = \"llama3.2\""
   ]
  },
  {
   "cell_type": "code",
   "execution_count": 4,
   "id": "dac0a679-599c-441f-9bf2-ddc73d35b940",
   "metadata": {},
   "outputs": [],
   "source": [
    "# Create a messages list using the same format that we used for OpenAI\n",
    "\n",
    "messages = [\n",
    "    {\"role\": \"user\", \"content\": \"Describe some of the business applications of Generative AI\"}\n",
    "]"
   ]
  },
  {
   "cell_type": "code",
   "execution_count": 5,
   "id": "7bb9c624-14f0-4945-a719-8ddb64f66f47",
   "metadata": {},
   "outputs": [],
   "source": [
    "payload = {\n",
    "        \"model\": MODEL,\n",
    "        \"messages\": messages,\n",
    "        \"stream\": False\n",
    "    }"
   ]
  },
  {
   "cell_type": "code",
   "execution_count": 6,
   "id": "479ff514-e8bd-4985-a572-2ea28bb4fa40",
   "metadata": {},
   "outputs": [
    {
     "name": "stdout",
     "output_type": "stream",
     "text": [
      "\u001b[?25lpulling manifest ⠙ \u001b[?25h\u001b[?25l\u001b[2K\u001b[1Gpulling manifest ⠙ \u001b[?25h\u001b[?25l\u001b[2K\u001b[1Gpulling manifest ⠸ \u001b[?25h\u001b[?25l\u001b[2K\u001b[1Gpulling manifest ⠼ \u001b[?25h\u001b[?25l\u001b[2K\u001b[1Gpulling manifest ⠴ \u001b[?25h\u001b[?25l\u001b[2K\u001b[1Gpulling manifest ⠴ \u001b[?25h\u001b[?25l\u001b[2K\u001b[1Gpulling manifest \n",
      "pulling dde5aa3fc5ff... 100% ▕████████████████▏ 2.0 GB                         \n",
      "pulling 966de95ca8a6... 100% ▕████████████████▏ 1.4 KB                         \n",
      "pulling fcc5a6bec9da... 100% ▕████████████████▏ 7.7 KB                         \n",
      "pulling a70ff7e570d9... 100% ▕████████████████▏ 6.0 KB                         \n",
      "pulling 56bb8bd477a5... 100% ▕████████████████▏   96 B                         \n",
      "pulling 34bb5ab01051... 100% ▕████████████████▏  561 B                         \n",
      "verifying sha256 digest \n",
      "writing manifest \n",
      "success \u001b[?25h\n"
     ]
    }
   ],
   "source": [
    "# Let's just make sure the model is loaded\n",
    "\n",
    "!ollama pull llama3.2"
   ]
  },
  {
   "cell_type": "code",
   "execution_count": 7,
   "id": "42b9f644-522d-4e05-a691-56e7658c0ea9",
   "metadata": {},
   "outputs": [
    {
     "name": "stdout",
     "output_type": "stream",
     "text": [
      "Generative AI has numerous business applications across various industries, including:\n",
      "\n",
      "1. **Content Creation**: Generative AI can be used to generate high-quality content such as articles, social media posts, and even entire books. This can help reduce content creation costs and increase efficiency for businesses.\n",
      "2. **Marketing Automation**: Generative AI can be used to personalize marketing messages and create targeted ads based on customer behavior and preferences.\n",
      "3. **Customer Service**: Generative AI-powered chatbots can provide 24/7 customer support, helping businesses improve their customer service experience and reduce response times.\n",
      "4. **Data Analysis**: Generative AI can help analyze vast amounts of data and identify patterns and trends that may not be visible to human analysts.\n",
      "5. **Image and Video Generation**: Generative AI can be used to generate high-quality images and videos for marketing, advertising, and other purposes.\n",
      "6. **Product Design**: Generative AI can be used to design new products and services, such as custom furniture, clothing, and even entire buildings.\n",
      "7. **Supply Chain Optimization**: Generative AI can help optimize supply chain operations by predicting demand, identifying bottlenecks, and optimizing inventory levels.\n",
      "8. **Predictive Maintenance**: Generative AI can be used to predict equipment failures and perform predictive maintenance, reducing downtime and increasing overall efficiency.\n",
      "9. **Financial Modeling**: Generative AI can be used to build complex financial models and predict market trends, helping businesses make more informed investment decisions.\n",
      "10. **Healthcare**: Generative AI can be used to analyze medical images, diagnose diseases, and develop personalized treatment plans.\n",
      "\n",
      "Some specific business use cases for Generative AI include:\n",
      "\n",
      "* **Product design:** Use generative AI to design custom furniture or clothing products that meet customer specifications.\n",
      "* **Content creation:** Use generative AI to generate high-quality blog posts or social media content based on trends and customer preferences.\n",
      "* **Marketing automation:** Use generative AI to personalize marketing messages and create targeted ads based on customer behavior and preferences.\n",
      "* **Customer service:** Use generative AI-powered chatbots to provide 24/7 customer support and improve the overall customer experience.\n",
      "\n",
      "Overall, Generative AI has the potential to transform various business processes and operations by providing new insights, automating tasks, and improving efficiency.\n"
     ]
    }
   ],
   "source": [
    "# If this doesn't work for any reason, try the 2 versions in the following cells\n",
    "# And double check the instructions in the 'Recap on installation of Ollama' at the top of this lab\n",
    "# And if none of that works - contact me!\n",
    "\n",
    "response = requests.post(OLLAMA_API, json=payload, headers=HEADERS)\n",
    "print(response.json()['message']['content'])"
   ]
  },
  {
   "cell_type": "markdown",
   "id": "6a021f13-d6a1-4b96-8e18-4eae49d876fe",
   "metadata": {},
   "source": [
    "# Introducing the ollama package\n",
    "\n",
    "And now we'll do the same thing, but using the elegant ollama python package instead of a direct HTTP call.\n",
    "\n",
    "Under the hood, it's making the same call as above to the ollama server running at localhost:11434"
   ]
  },
  {
   "cell_type": "code",
   "execution_count": 8,
   "id": "7745b9c4-57dc-4867-9180-61fa5db55eb8",
   "metadata": {},
   "outputs": [
    {
     "name": "stdout",
     "output_type": "stream",
     "text": [
      "Generative AI has numerous business applications across various industries. Here are some examples:\n",
      "\n",
      "1. **Content Generation**: Generative AI can be used to generate high-quality content such as blog posts, social media posts, product descriptions, and more. This can help businesses save time and resources on content creation.\n",
      "2. **Image and Video Generation**: Generative AI can create realistic images and videos for various applications, including marketing, advertising, and entertainment. For example, a company can use generative AI to create custom product images or promotional videos.\n",
      "3. **Customer Service Chatbots**: Generative AI-powered chatbots can be used to provide 24/7 customer support, helping businesses respond to customer inquiries and issues more efficiently.\n",
      "4. **Product Design and Development**: Generative AI can aid in the design and development of new products by generating ideas, prototypes, and even production-ready designs.\n",
      "5. **Marketing Automation**: Generative AI can help automate marketing tasks such as lead generation, email marketing, and social media management, freeing up resources for more strategic initiatives.\n",
      "6. **Data Analysis and Visualization**: Generative AI can be used to analyze large datasets and generate insights, making it easier for businesses to make data-driven decisions.\n",
      "7. **Language Translation**: Generative AI-powered language translation tools can help businesses communicate with customers and partners in different languages, improving global reach and expansion.\n",
      "8. **Creative Writing**: Generative AI can assist writers by generating ideas, outlining stories, or even completing entire articles.\n",
      "9. **Music and Audio Generation**: Generative AI can create music, sound effects, and audio tracks for various applications, including film, video games, and advertising.\n",
      "10. **Predictive Maintenance**: Generative AI can analyze sensor data from machines and predict potential maintenance needs, helping businesses reduce downtime and increase efficiency.\n",
      "\n",
      "Some specific business use cases include:\n",
      "\n",
      "* **Personalized product recommendations**: Using generative AI to generate personalized product recommendations for e-commerce websites.\n",
      "* **Automated content optimization**: Using generative AI to optimize website content for search engines and improve SEO.\n",
      "* **Customizable customer experiences**: Using generative AI to create customized customer experiences, such as personalized email campaigns or social media posts.\n",
      "\n",
      "Overall, generative AI has the potential to transform various business functions, from marketing and sales to product development and customer service.\n"
     ]
    }
   ],
   "source": [
    "import ollama\n",
    "\n",
    "response = ollama.chat(model=MODEL, messages=messages)\n",
    "print(response['message']['content'])"
   ]
  },
  {
   "cell_type": "markdown",
   "id": "a4704e10-f5fb-4c15-a935-f046c06fb13d",
   "metadata": {},
   "source": [
    "## Alternative approach - using OpenAI python library to connect to Ollama"
   ]
  },
  {
   "cell_type": "code",
   "execution_count": 9,
   "id": "23057e00-b6fc-4678-93a9-6b31cb704bff",
   "metadata": {},
   "outputs": [
    {
     "name": "stdout",
     "output_type": "stream",
     "text": [
      "Generative AI (Artificial Intelligence) is a subset of machine learning that enables computers to create, generate, or manipulate content based on patterns and relationships learned from data. Some potential business applications of Generative AI include:\n",
      "\n",
      "1. **Content creation**: Using Generative AI models like text-to-image or music generators to produce new content, such as product descriptions, social media posts, or even entire articles.\n",
      "2. **Marketing automation**: Leveraging Generative AI-powered tools to create personalized marketing campaigns, generate dynamic ad copy, and develop targeted marketing materials.\n",
      "3. **Product design**: Utilizing Generative AI to simulate designs, create 3D models, and iterate on product prototypes, reducing the need for manual drafting and improving productivity.\n",
      "4. **Data annotation**: Applying Generative AI models like image or text annotators to automate data labeling and preparation for machine learning, freeing up teams to focus on analysis.\n",
      "5. **Chatbots and customer service**: Integrating Generative AI-powered chatbots to engage with customers, provide product recommendations, and route them to human technicians.\n",
      "6. **Content recommendation engines**: Building personalized content streams using Generative AI models that learn user preferences, behavior, and interactions.\n",
      "7. **Audio and video post-production**: Leveraging Generative AI tools for color correction, audio editing, or even music composition, helping editors streamline workflows and enhance production quality.\n",
      "8. **Fashion and apparel design**: Using Generative AI to generate patterns, designs, and prototypes, accelerating the fashion design process and enhancing creativity.\n",
      "9. **Computer vision analytics**: Applying Generative AI models to analyze images, videos, and other visual data for tasks like object detection, facial recognition, or anomaly detection.\n",
      "10. **Predictive maintenance**: Combining Generative AI with machine learning to create predictive models that forecast equipment failures, reducing downtime and improving supply chain efficiency.\n",
      "\n",
      "Some industries benefiting from these applications include:\n",
      "\n",
      "- E-commerce\n",
      "- Advertising and marketing\n",
      "- Fashion and apparel\n",
      "- Entertainment and media\n",
      "- Manufacturing and product design\n",
      "- Transportation and logistics\n",
      "- Healthcare and biotech\n",
      "\n",
      "By empowering creative work with data-driven insight, Generative AI opens new avenues for innovation and growth in an array of sectors.\n"
     ]
    }
   ],
   "source": [
    "# There's actually an alternative approach that some people might prefer\n",
    "# You can use the OpenAI client python library to call Ollama:\n",
    "\n",
    "from openai import OpenAI\n",
    "ollama_via_openai = OpenAI(base_url='http://localhost:11434/v1', api_key='ollama')\n",
    "\n",
    "response = ollama_via_openai.chat.completions.create(\n",
    "    model=MODEL,\n",
    "    messages=messages\n",
    ")\n",
    "\n",
    "print(response.choices[0].message.content)"
   ]
  },
  {
   "cell_type": "markdown",
   "id": "1622d9bb-5c68-4d4e-9ca4-b492c751f898",
   "metadata": {},
   "source": [
    "# NOW the exercise for you\n",
    "\n",
    "Take the code from day1 and incorporate it here, to build a website summarizer that uses Llama 3.2 running locally instead of OpenAI; use either of the above approaches."
   ]
  },
  {
   "cell_type": "code",
   "execution_count": null,
   "id": "402d5686-4e76-4110-b65a-b3906c35c0a4",
   "metadata": {},
   "outputs": [],
   "source": []
  }
 ],
 "metadata": {
  "kernelspec": {
   "display_name": ".venv",
   "language": "python",
   "name": "python3"
  },
  "language_info": {
   "codemirror_mode": {
    "name": "ipython",
    "version": 3
   },
   "file_extension": ".py",
   "mimetype": "text/x-python",
   "name": "python",
   "nbconvert_exporter": "python",
   "pygments_lexer": "ipython3",
   "version": "3.12.8"
  }
 },
 "nbformat": 4,
 "nbformat_minor": 5
}
